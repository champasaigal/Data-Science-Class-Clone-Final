{
 "cells": [
  {
   "cell_type": "markdown",
   "metadata": {
    "collapsed": true
   },
   "source": [
    "## Class 9 Agenda:\n",
    "  * **Feature Decomposition and Dimensionality Reduction: PCA**\n",
    "  * **Regularization: Lasso Regression (L1 regularization for Logistic Regression)**\n",
    "  * **Regularization: Ridge Regression (L2 regularization for Logistic Regression)**\n",
    "  * **Regularization: Elastic Net Regression (L1 and L2 combined regularization for Logistic Regression)**"
   ]
  },
  {
   "cell_type": "markdown",
   "metadata": {},
   "source": [
    "Today we talk about what happens when we have lots of predictor variables (columns/features), and are trying to both generate accurate models, and reduce the number of columns we use to predict/explain what is going on in our dataset.\n",
    "\n",
    "We may need to do this for a variety of reasons.\n",
    "\n",
    "In many instances, the number of columns you have in your data can be much larger than the number of samples (examples/rows) you have. One unfortunate result of this can be that we **overfit** our models (many different combinations of the columns in our data can generate the same training results). We need a systematic way to reduce the number of columns we use in our models to just those columns that are the most important for our prediction.\n",
    "\n",
    "**How can we tell which columns are the most important, and how can we reduce or recombine them in such a way that we just keep/use the most important ones?**\n",
    "\n",
    "That's the topic of today's lesson.\n",
    "\n",
    "In general, not all of the columns in our dataset may be critical for predicting a given outcome variable because:\n",
    "\n",
    "1. Several columns may be highly correlated with each other (provide redundant information) and with the outcome variable.\n",
    "2. Columns may not be correlated at all with the outcome attribute (have no \"predictive ability\" in terms of what you're trying to predict).\n",
    "\n",
    "The two strategies for dealing with both of these cases are called **Dimensionality Reduction** and **Regularization.** Both strategies can be used for supervised classification/regression problems, as well as for unsupervised learning and clustering.\n",
    "\n",
    "By the end of this lesson you will be able to:\n",
    "\n",
    "  * use PCA to reduce the size of a given dataset's features to a strictly smaller number of features\n",
    "  * understand how to interpret the eigenvalues and variance explained by a certain number of PCs after performing PCA\n",
    "  * use Lasso/L1 regularization for both feature selection and general regression/classification problems\n",
    "  * use Ridge/L2 regularization for regression and classification problems\n",
    "  * explain the difference between L1/L2 regularization"
   ]
  },
  {
   "cell_type": "code",
   "execution_count": 1,
   "metadata": {
    "collapsed": true
   },
   "outputs": [],
   "source": [
    "#data handling, model creation/evaluation\n",
    "import pandas as pd\n",
    "import numpy as np\n",
    "from sklearn.decomposition import PCA\n",
    "from sklearn.preprocessing import LabelEncoder, PolynomialFeatures, StandardScaler\n",
    "from sklearn.linear_model import Lasso, Ridge, LinearRegression, LogisticRegression, ElasticNet\n",
    "from sklearn.ensemble import RandomForestClassifier\n",
    "from sklearn import metrics\n",
    "from sklearn.model_selection import cross_val_score, train_test_split\n",
    "from itertools import chain\n",
    "import scipy.stats as stats\n",
    "\n",
    "# visualization\n",
    "%matplotlib inline\n",
    "import matplotlib.pyplot as plt\n",
    "import seaborn as sns"
   ]
  },
  {
   "cell_type": "markdown",
   "metadata": {},
   "source": [
    "We are going to use the [Boston Housing Dataset](http://archive.ics.uci.edu/ml/datasets/Housing) from the UCI repo to explore both Feature Decomposition/Dimensionality Reduction and Regularization.\n",
    "\n",
    "Here's the dataset schema:\n",
    "\n",
    "  1. **crime:** per capita crime rate by town\n",
    "  2. **zone:** proportion of residential land zoned for lots over 25,000 sq.ft.\n",
    "  3. **industry:** proportion of non-retail business acres per town\n",
    "  4. **charles:** Charles River dummy variable (1 if tract bounds river; 0 otherwise)\n",
    "  5. **no:** nitric oxides concentration (parts per 10 million)\n",
    "  6. **rooms:** average number of rooms per dwelling\n",
    "  7. **age:** proportion of owner-occupied units built prior to 1940\n",
    "  8. **distance:** weighted distances to five Boston employment centres\n",
    "  9. **radial:** index of accessibility to radial highways\n",
    "  10. **tax:** full-value property-tax rate per 10K dollars\n",
    "  11. **pupil:** pupil-teacher ratio by town\n",
    "  12. **aam:** $1000(aam - 0.63)^2$ where aam is the proportion of african americans by town\n",
    "  13. **lower:** percentage lower income status of the population\n",
    "  14. **med_price:** Median value of owner-occupied homes in $1000's\n",
    "  \n",
    "Let's load the data in:"
   ]
  },
  {
   "cell_type": "code",
   "execution_count": 2,
   "metadata": {
    "collapsed": true
   },
   "outputs": [],
   "source": [
    "housing_columns = [\"crime\",\"zone\",\"industry\",\"charles\",\"no\",\"rooms\",\"age\",\n",
    "                   \"distance\",\"radial\",\"tax\",\"pupil\",\"aam\",\"lower\",\"med_price\"]\n",
    "housing_features = housing_columns[:-1]\n",
    "housing_target = housing_columns[-1]\n",
    "housing_data = pd.read_csv(\"data/boston_housing.csv\",names=housing_columns)"
   ]
  },
  {
   "cell_type": "markdown",
   "metadata": {},
   "source": [
    "And compute some basic stats per column:"
   ]
  },
  {
   "cell_type": "code",
   "execution_count": 3,
   "metadata": {},
   "outputs": [
    {
     "data": {
      "text/html": [
       "<div>\n",
       "<style>\n",
       "    .dataframe thead tr:only-child th {\n",
       "        text-align: right;\n",
       "    }\n",
       "\n",
       "    .dataframe thead th {\n",
       "        text-align: left;\n",
       "    }\n",
       "\n",
       "    .dataframe tbody tr th {\n",
       "        vertical-align: top;\n",
       "    }\n",
       "</style>\n",
       "<table border=\"1\" class=\"dataframe\">\n",
       "  <thead>\n",
       "    <tr style=\"text-align: right;\">\n",
       "      <th></th>\n",
       "      <th>crime</th>\n",
       "      <th>zone</th>\n",
       "      <th>industry</th>\n",
       "      <th>charles</th>\n",
       "      <th>no</th>\n",
       "      <th>rooms</th>\n",
       "      <th>age</th>\n",
       "      <th>distance</th>\n",
       "      <th>radial</th>\n",
       "      <th>tax</th>\n",
       "      <th>pupil</th>\n",
       "      <th>aam</th>\n",
       "      <th>lower</th>\n",
       "      <th>med_price</th>\n",
       "    </tr>\n",
       "  </thead>\n",
       "  <tbody>\n",
       "    <tr>\n",
       "      <th>count</th>\n",
       "      <td>506.000000</td>\n",
       "      <td>506.000000</td>\n",
       "      <td>506.000000</td>\n",
       "      <td>506.000000</td>\n",
       "      <td>506.000000</td>\n",
       "      <td>506.000000</td>\n",
       "      <td>506.000000</td>\n",
       "      <td>506.000000</td>\n",
       "      <td>506.000000</td>\n",
       "      <td>506.000000</td>\n",
       "      <td>506.000000</td>\n",
       "      <td>506.000000</td>\n",
       "      <td>506.000000</td>\n",
       "      <td>506.000000</td>\n",
       "    </tr>\n",
       "    <tr>\n",
       "      <th>mean</th>\n",
       "      <td>3.613524</td>\n",
       "      <td>11.363636</td>\n",
       "      <td>11.136779</td>\n",
       "      <td>0.069170</td>\n",
       "      <td>0.554695</td>\n",
       "      <td>6.284634</td>\n",
       "      <td>68.574901</td>\n",
       "      <td>3.795043</td>\n",
       "      <td>9.549407</td>\n",
       "      <td>408.237154</td>\n",
       "      <td>18.455534</td>\n",
       "      <td>356.674032</td>\n",
       "      <td>12.653063</td>\n",
       "      <td>22.532806</td>\n",
       "    </tr>\n",
       "    <tr>\n",
       "      <th>std</th>\n",
       "      <td>8.601545</td>\n",
       "      <td>23.322453</td>\n",
       "      <td>6.860353</td>\n",
       "      <td>0.253994</td>\n",
       "      <td>0.115878</td>\n",
       "      <td>0.702617</td>\n",
       "      <td>28.148861</td>\n",
       "      <td>2.105710</td>\n",
       "      <td>8.707259</td>\n",
       "      <td>168.537116</td>\n",
       "      <td>2.164946</td>\n",
       "      <td>91.294864</td>\n",
       "      <td>7.141062</td>\n",
       "      <td>9.197104</td>\n",
       "    </tr>\n",
       "    <tr>\n",
       "      <th>min</th>\n",
       "      <td>0.006320</td>\n",
       "      <td>0.000000</td>\n",
       "      <td>0.460000</td>\n",
       "      <td>0.000000</td>\n",
       "      <td>0.385000</td>\n",
       "      <td>3.561000</td>\n",
       "      <td>2.900000</td>\n",
       "      <td>1.129600</td>\n",
       "      <td>1.000000</td>\n",
       "      <td>187.000000</td>\n",
       "      <td>12.600000</td>\n",
       "      <td>0.320000</td>\n",
       "      <td>1.730000</td>\n",
       "      <td>5.000000</td>\n",
       "    </tr>\n",
       "    <tr>\n",
       "      <th>25%</th>\n",
       "      <td>0.082045</td>\n",
       "      <td>0.000000</td>\n",
       "      <td>5.190000</td>\n",
       "      <td>0.000000</td>\n",
       "      <td>0.449000</td>\n",
       "      <td>5.885500</td>\n",
       "      <td>45.025000</td>\n",
       "      <td>2.100175</td>\n",
       "      <td>4.000000</td>\n",
       "      <td>279.000000</td>\n",
       "      <td>17.400000</td>\n",
       "      <td>375.377500</td>\n",
       "      <td>6.950000</td>\n",
       "      <td>17.025000</td>\n",
       "    </tr>\n",
       "    <tr>\n",
       "      <th>50%</th>\n",
       "      <td>0.256510</td>\n",
       "      <td>0.000000</td>\n",
       "      <td>9.690000</td>\n",
       "      <td>0.000000</td>\n",
       "      <td>0.538000</td>\n",
       "      <td>6.208500</td>\n",
       "      <td>77.500000</td>\n",
       "      <td>3.207450</td>\n",
       "      <td>5.000000</td>\n",
       "      <td>330.000000</td>\n",
       "      <td>19.050000</td>\n",
       "      <td>391.440000</td>\n",
       "      <td>11.360000</td>\n",
       "      <td>21.200000</td>\n",
       "    </tr>\n",
       "    <tr>\n",
       "      <th>75%</th>\n",
       "      <td>3.677082</td>\n",
       "      <td>12.500000</td>\n",
       "      <td>18.100000</td>\n",
       "      <td>0.000000</td>\n",
       "      <td>0.624000</td>\n",
       "      <td>6.623500</td>\n",
       "      <td>94.075000</td>\n",
       "      <td>5.188425</td>\n",
       "      <td>24.000000</td>\n",
       "      <td>666.000000</td>\n",
       "      <td>20.200000</td>\n",
       "      <td>396.225000</td>\n",
       "      <td>16.955000</td>\n",
       "      <td>25.000000</td>\n",
       "    </tr>\n",
       "    <tr>\n",
       "      <th>max</th>\n",
       "      <td>88.976200</td>\n",
       "      <td>100.000000</td>\n",
       "      <td>27.740000</td>\n",
       "      <td>1.000000</td>\n",
       "      <td>0.871000</td>\n",
       "      <td>8.780000</td>\n",
       "      <td>100.000000</td>\n",
       "      <td>12.126500</td>\n",
       "      <td>24.000000</td>\n",
       "      <td>711.000000</td>\n",
       "      <td>22.000000</td>\n",
       "      <td>396.900000</td>\n",
       "      <td>37.970000</td>\n",
       "      <td>50.000000</td>\n",
       "    </tr>\n",
       "  </tbody>\n",
       "</table>\n",
       "</div>"
      ],
      "text/plain": [
       "            crime        zone    industry     charles          no       rooms  \\\n",
       "count  506.000000  506.000000  506.000000  506.000000  506.000000  506.000000   \n",
       "mean     3.613524   11.363636   11.136779    0.069170    0.554695    6.284634   \n",
       "std      8.601545   23.322453    6.860353    0.253994    0.115878    0.702617   \n",
       "min      0.006320    0.000000    0.460000    0.000000    0.385000    3.561000   \n",
       "25%      0.082045    0.000000    5.190000    0.000000    0.449000    5.885500   \n",
       "50%      0.256510    0.000000    9.690000    0.000000    0.538000    6.208500   \n",
       "75%      3.677082   12.500000   18.100000    0.000000    0.624000    6.623500   \n",
       "max     88.976200  100.000000   27.740000    1.000000    0.871000    8.780000   \n",
       "\n",
       "              age    distance      radial         tax       pupil         aam  \\\n",
       "count  506.000000  506.000000  506.000000  506.000000  506.000000  506.000000   \n",
       "mean    68.574901    3.795043    9.549407  408.237154   18.455534  356.674032   \n",
       "std     28.148861    2.105710    8.707259  168.537116    2.164946   91.294864   \n",
       "min      2.900000    1.129600    1.000000  187.000000   12.600000    0.320000   \n",
       "25%     45.025000    2.100175    4.000000  279.000000   17.400000  375.377500   \n",
       "50%     77.500000    3.207450    5.000000  330.000000   19.050000  391.440000   \n",
       "75%     94.075000    5.188425   24.000000  666.000000   20.200000  396.225000   \n",
       "max    100.000000   12.126500   24.000000  711.000000   22.000000  396.900000   \n",
       "\n",
       "            lower   med_price  \n",
       "count  506.000000  506.000000  \n",
       "mean    12.653063   22.532806  \n",
       "std      7.141062    9.197104  \n",
       "min      1.730000    5.000000  \n",
       "25%      6.950000   17.025000  \n",
       "50%     11.360000   21.200000  \n",
       "75%     16.955000   25.000000  \n",
       "max     37.970000   50.000000  "
      ]
     },
     "execution_count": 3,
     "metadata": {},
     "output_type": "execute_result"
    }
   ],
   "source": [
    "housing_data.describe()"
   ]
  },
  {
   "cell_type": "markdown",
   "metadata": {},
   "source": [
    "And let's look at the correlation matrix:"
   ]
  },
  {
   "cell_type": "code",
   "execution_count": 4,
   "metadata": {},
   "outputs": [
    {
     "name": "stdout",
     "output_type": "stream",
     "text": [
      "              crime      zone  industry   charles        no     rooms  \\\n",
      "crime      1.000000 -0.200469  0.406583 -0.055892  0.420972 -0.219247   \n",
      "zone      -0.200469  1.000000 -0.533828 -0.042697 -0.516604  0.311991   \n",
      "industry   0.406583 -0.533828  1.000000  0.062938  0.763651 -0.391676   \n",
      "charles   -0.055892 -0.042697  0.062938  1.000000  0.091203  0.091251   \n",
      "no         0.420972 -0.516604  0.763651  0.091203  1.000000 -0.302188   \n",
      "rooms     -0.219247  0.311991 -0.391676  0.091251 -0.302188  1.000000   \n",
      "age        0.352734 -0.569537  0.644779  0.086518  0.731470 -0.240265   \n",
      "distance  -0.379670  0.664408 -0.708027 -0.099176 -0.769230  0.205246   \n",
      "radial     0.625505 -0.311948  0.595129 -0.007368  0.611441 -0.209847   \n",
      "tax        0.582764 -0.314563  0.720760 -0.035587  0.668023 -0.292048   \n",
      "pupil      0.289946 -0.391679  0.383248 -0.121515  0.188933 -0.355501   \n",
      "aam       -0.385064  0.175520 -0.356977  0.048788 -0.380051  0.128069   \n",
      "lower      0.455621 -0.412995  0.603800 -0.053929  0.590879 -0.613808   \n",
      "med_price -0.388305  0.360445 -0.483725  0.175260 -0.427321  0.695360   \n",
      "\n",
      "                age  distance    radial       tax     pupil       aam  \\\n",
      "crime      0.352734 -0.379670  0.625505  0.582764  0.289946 -0.385064   \n",
      "zone      -0.569537  0.664408 -0.311948 -0.314563 -0.391679  0.175520   \n",
      "industry   0.644779 -0.708027  0.595129  0.720760  0.383248 -0.356977   \n",
      "charles    0.086518 -0.099176 -0.007368 -0.035587 -0.121515  0.048788   \n",
      "no         0.731470 -0.769230  0.611441  0.668023  0.188933 -0.380051   \n",
      "rooms     -0.240265  0.205246 -0.209847 -0.292048 -0.355501  0.128069   \n",
      "age        1.000000 -0.747881  0.456022  0.506456  0.261515 -0.273534   \n",
      "distance  -0.747881  1.000000 -0.494588 -0.534432 -0.232471  0.291512   \n",
      "radial     0.456022 -0.494588  1.000000  0.910228  0.464741 -0.444413   \n",
      "tax        0.506456 -0.534432  0.910228  1.000000  0.460853 -0.441808   \n",
      "pupil      0.261515 -0.232471  0.464741  0.460853  1.000000 -0.177383   \n",
      "aam       -0.273534  0.291512 -0.444413 -0.441808 -0.177383  1.000000   \n",
      "lower      0.602339 -0.496996  0.488676  0.543993  0.374044 -0.366087   \n",
      "med_price -0.376955  0.249929 -0.381626 -0.468536 -0.507787  0.333461   \n",
      "\n",
      "              lower  med_price  \n",
      "crime      0.455621  -0.388305  \n",
      "zone      -0.412995   0.360445  \n",
      "industry   0.603800  -0.483725  \n",
      "charles   -0.053929   0.175260  \n",
      "no         0.590879  -0.427321  \n",
      "rooms     -0.613808   0.695360  \n",
      "age        0.602339  -0.376955  \n",
      "distance  -0.496996   0.249929  \n",
      "radial     0.488676  -0.381626  \n",
      "tax        0.543993  -0.468536  \n",
      "pupil      0.374044  -0.507787  \n",
      "aam       -0.366087   0.333461  \n",
      "lower      1.000000  -0.737663  \n",
      "med_price -0.737663   1.000000  \n"
     ]
    },
    {
     "data": {
      "image/png": "[encoded data removed]",
      "text/plain": [
       "<matplotlib.figure.Figure at 0x1ccd619b780>"
      ]
     },
     "metadata": {},
     "output_type": "display_data"
    }
   ],
   "source": [
    "sns.heatmap(housing_data.corr())\n",
    "print(housing_data.corr())"
   ]
  },
  {
   "cell_type": "markdown",
   "metadata": {},
   "source": [
    "Let's also plot the histogram of median housing prices across the dataset. This is what we are going to try to predict initially."
   ]
  },
  {
   "cell_type": "code",
   "execution_count": 5,
   "metadata": {},
   "outputs": [
    {
     "data": {
      "text/plain": [
       "<matplotlib.axes._subplots.AxesSubplot at 0x1ccd5f61160>"
      ]
     },
     "execution_count": 5,
     "metadata": {},
     "output_type": "execute_result"
    },
    {
     "data": {
      "image/png": "[encoded data removed]",
      "text/plain": [
       "<matplotlib.figure.Figure at 0x1ccd5f82908>"
      ]
     },
     "metadata": {},
     "output_type": "display_data"
    }
   ],
   "source": [
    "sns.distplot(housing_data[housing_target])"
   ]
  },
  {
   "cell_type": "markdown",
   "metadata": {},
   "source": [
    "Let's try and build a linear regression model using this data, using 50-fold cross validation:"
   ]
  },
  {
   "cell_type": "code",
   "execution_count": 6,
   "metadata": {},
   "outputs": [
    {
     "name": "stderr",
     "output_type": "stream",
     "text": [
      "C:\\ProgramData\\Anaconda3\\lib\\site-packages\\sklearn\\preprocessing\\data.py:617: DataConversionWarning: Data with input dtype int64, float64 were all converted to float64 by StandardScaler.\n",
      "  return self.partial_fit(X, y)\n",
      "C:\\ProgramData\\Anaconda3\\lib\\site-packages\\sklearn\\base.py:462: DataConversionWarning: Data with input dtype int64, float64 were all converted to float64 by StandardScaler.\n",
      "  return self.fit(X, **fit_params).transform(X)\n"
     ]
    },
    {
     "name": "stdout",
     "output_type": "stream",
     "text": [
      "50-fold mean RMSE:  4.444661510147179\n"
     ]
    }
   ],
   "source": [
    "#standardize the features, to get actual interpretable coefficients for each feature\n",
    "X = StandardScaler().fit_transform(housing_data[housing_features])\n",
    "y = housing_data[housing_target]\n",
    "\n",
    "lr = LinearRegression()\n",
    "\n",
    "#must take absolute value because sklearn makes the errors negative - dont ask me why\n",
    "mean_squared_errors = np.abs(cross_val_score(lr,X,y,cv=50,scoring='neg_mean_squared_error'))\n",
    "print(\"50-fold mean RMSE: \", np.mean( np.sqrt(mean_squared_errors)))\n",
    "\n",
    "#root_mean_squared_errors = map(np.sqrt,mean_squared_errors)\n",
    "#print(\"50-fold mean RMSE: \", np.mean(root_mean_squared_errors))"
   ]
  },
  {
   "cell_type": "markdown",
   "metadata": {},
   "source": [
    "So, we can expect to be off by ~4,000$ in our prediction if we use this model.\n",
    "\n",
    "Now let's see what the coefficients of a model trained on all of the data look like:"
   ]
  },
  {
   "cell_type": "code",
   "execution_count": 7,
   "metadata": {},
   "outputs": [
    {
     "data": {
      "text/html": [
       "<div>\n",
       "<style>\n",
       "    .dataframe thead tr:only-child th {\n",
       "        text-align: right;\n",
       "    }\n",
       "\n",
       "    .dataframe thead th {\n",
       "        text-align: left;\n",
       "    }\n",
       "\n",
       "    .dataframe tbody tr th {\n",
       "        vertical-align: top;\n",
       "    }\n",
       "</style>\n",
       "<table border=\"1\" class=\"dataframe\">\n",
       "  <thead>\n",
       "    <tr style=\"text-align: right;\">\n",
       "      <th></th>\n",
       "      <th>features</th>\n",
       "      <th>betas</th>\n",
       "    </tr>\n",
       "  </thead>\n",
       "  <tbody>\n",
       "    <tr>\n",
       "      <th>12</th>\n",
       "      <td>lower</td>\n",
       "      <td>3.743627</td>\n",
       "    </tr>\n",
       "    <tr>\n",
       "      <th>7</th>\n",
       "      <td>distance</td>\n",
       "      <td>3.104044</td>\n",
       "    </tr>\n",
       "    <tr>\n",
       "      <th>5</th>\n",
       "      <td>rooms</td>\n",
       "      <td>2.674230</td>\n",
       "    </tr>\n",
       "    <tr>\n",
       "      <th>8</th>\n",
       "      <td>radial</td>\n",
       "      <td>2.662218</td>\n",
       "    </tr>\n",
       "    <tr>\n",
       "      <th>9</th>\n",
       "      <td>tax</td>\n",
       "      <td>2.076782</td>\n",
       "    </tr>\n",
       "    <tr>\n",
       "      <th>10</th>\n",
       "      <td>pupil</td>\n",
       "      <td>2.060607</td>\n",
       "    </tr>\n",
       "    <tr>\n",
       "      <th>4</th>\n",
       "      <td>no</td>\n",
       "      <td>2.056718</td>\n",
       "    </tr>\n",
       "    <tr>\n",
       "      <th>1</th>\n",
       "      <td>zone</td>\n",
       "      <td>1.081569</td>\n",
       "    </tr>\n",
       "    <tr>\n",
       "      <th>0</th>\n",
       "      <td>crime</td>\n",
       "      <td>0.928146</td>\n",
       "    </tr>\n",
       "    <tr>\n",
       "      <th>11</th>\n",
       "      <td>aam</td>\n",
       "      <td>0.849268</td>\n",
       "    </tr>\n",
       "    <tr>\n",
       "      <th>3</th>\n",
       "      <td>charles</td>\n",
       "      <td>0.681740</td>\n",
       "    </tr>\n",
       "    <tr>\n",
       "      <th>2</th>\n",
       "      <td>industry</td>\n",
       "      <td>0.140900</td>\n",
       "    </tr>\n",
       "    <tr>\n",
       "      <th>6</th>\n",
       "      <td>age</td>\n",
       "      <td>0.019466</td>\n",
       "    </tr>\n",
       "  </tbody>\n",
       "</table>\n",
       "</div>"
      ],
      "text/plain": [
       "    features     betas\n",
       "12     lower  3.743627\n",
       "7   distance  3.104044\n",
       "5      rooms  2.674230\n",
       "8     radial  2.662218\n",
       "9        tax  2.076782\n",
       "10     pupil  2.060607\n",
       "4         no  2.056718\n",
       "1       zone  1.081569\n",
       "0      crime  0.928146\n",
       "11       aam  0.849268\n",
       "3    charles  0.681740\n",
       "2   industry  0.140900\n",
       "6        age  0.019466"
      ]
     },
     "execution_count": 7,
     "metadata": {},
     "output_type": "execute_result"
    }
   ],
   "source": [
    "coeffs = LinearRegression().fit(X,y).coef_\n",
    "coeff_df = pd.DataFrame(list(zip(housing_features,np.abs(coeffs))),columns=[\"features\",\"betas\"])\n",
    "coeff_df.sort_values(\"betas\",ascending=False,inplace=True)\n",
    "coeff_df"
   ]
  },
  {
   "cell_type": "markdown",
   "metadata": {},
   "source": [
    "Look at how the last couple features barely impact the linear regression. Let's see if we can't reduce the total number of columns we use without impacting the overall quality of the prediction.\n",
    "\n",
    "We will try do this using **PCA**.\n",
    "\n",
    "**PCA**, short for [**Principal Components Analysis**](https://en.wikipedia.org/wiki/Principal_component_analysis) is a method for transforming your initial features into a new feature space such that:\n",
    "  * All of the new columns are uncorrelated with each other, but are linearly-blended versions of the original columns (features)\n",
    "  * Each succesive column is less important in terms of how much of the variance (information) in the original data it explains. So, the first column is the \"most important\" (in a specific statistical sense) column, the 2nd column is \"2nd most important\" and so on.\n",
    "\n",
    "We can generate a PCA-based transformation of our features. Let's see that in action:"
   ]
  },
  {
   "cell_type": "code",
   "execution_count": 8,
   "metadata": {},
   "outputs": [
    {
     "name": "stdout",
     "output_type": "stream",
     "text": [
      "     crime  zone  industry  charles     no  rooms   age  distance  radial  \\\n",
      "0  0.00632  18.0      2.31        0  0.538  6.575  65.2    4.0900       1   \n",
      "1  0.02731   0.0      7.07        0  0.469  6.421  78.9    4.9671       2   \n",
      "2  0.02729   0.0      7.07        0  0.469  7.185  61.1    4.9671       2   \n",
      "3  0.03237   0.0      2.18        0  0.458  6.998  45.8    6.0622       3   \n",
      "4  0.06905   0.0      2.18        0  0.458  7.147  54.2    6.0622       3   \n",
      "\n",
      "     tax  pupil     aam  lower  \n",
      "0  296.0   15.3  396.90   4.98  \n",
      "1  242.0   17.8  396.90   9.14  \n",
      "2  242.0   17.8  392.83   4.03  \n",
      "3  222.0   18.7  394.63   2.94  \n",
      "4  222.0   18.7  396.90   5.33  \n"
     ]
    },
    {
     "data": {
      "text/html": [
       "<div>\n",
       "<style>\n",
       "    .dataframe thead tr:only-child th {\n",
       "        text-align: right;\n",
       "    }\n",
       "\n",
       "    .dataframe thead th {\n",
       "        text-align: left;\n",
       "    }\n",
       "\n",
       "    .dataframe tbody tr th {\n",
       "        vertical-align: top;\n",
       "    }\n",
       "</style>\n",
       "<table border=\"1\" class=\"dataframe\">\n",
       "  <thead>\n",
       "    <tr style=\"text-align: right;\">\n",
       "      <th></th>\n",
       "      <th>component_1</th>\n",
       "      <th>component_2</th>\n",
       "      <th>component_3</th>\n",
       "      <th>component_4</th>\n",
       "      <th>component_5</th>\n",
       "      <th>component_6</th>\n",
       "      <th>component_7</th>\n",
       "      <th>component_8</th>\n",
       "      <th>component_9</th>\n",
       "      <th>component_10</th>\n",
       "      <th>component_11</th>\n",
       "      <th>component_12</th>\n",
       "      <th>component_13</th>\n",
       "    </tr>\n",
       "  </thead>\n",
       "  <tbody>\n",
       "    <tr>\n",
       "      <th>0</th>\n",
       "      <td>-119.818843</td>\n",
       "      <td>-5.560056</td>\n",
       "      <td>-3.172693</td>\n",
       "      <td>5.291593</td>\n",
       "      <td>-1.818728</td>\n",
       "      <td>-6.312070</td>\n",
       "      <td>-1.032609</td>\n",
       "      <td>5.477971</td>\n",
       "      <td>-1.935498</td>\n",
       "      <td>-0.329154</td>\n",
       "      <td>0.378374</td>\n",
       "      <td>-0.071311</td>\n",
       "      <td>0.033545</td>\n",
       "    </tr>\n",
       "    <tr>\n",
       "      <th>1</th>\n",
       "      <td>-168.890155</td>\n",
       "      <td>10.116209</td>\n",
       "      <td>-30.781887</td>\n",
       "      <td>1.296776</td>\n",
       "      <td>0.369680</td>\n",
       "      <td>-3.241821</td>\n",
       "      <td>-0.628651</td>\n",
       "      <td>0.915626</td>\n",
       "      <td>0.467686</td>\n",
       "      <td>1.299810</td>\n",
       "      <td>0.048674</td>\n",
       "      <td>-0.094734</td>\n",
       "      <td>-0.033150</td>\n",
       "    </tr>\n",
       "    <tr>\n",
       "      <th>2</th>\n",
       "      <td>-169.311707</td>\n",
       "      <td>14.080532</td>\n",
       "      <td>-16.753628</td>\n",
       "      <td>-10.278399</td>\n",
       "      <td>-0.093409</td>\n",
       "      <td>-5.910068</td>\n",
       "      <td>1.718753</td>\n",
       "      <td>0.510026</td>\n",
       "      <td>0.414966</td>\n",
       "      <td>0.910646</td>\n",
       "      <td>-0.467469</td>\n",
       "      <td>-0.107257</td>\n",
       "      <td>-0.004509</td>\n",
       "    </tr>\n",
       "    <tr>\n",
       "      <th>3</th>\n",
       "      <td>-190.230642</td>\n",
       "      <td>18.302463</td>\n",
       "      <td>-6.534195</td>\n",
       "      <td>-19.644921</td>\n",
       "      <td>1.513442</td>\n",
       "      <td>-6.959925</td>\n",
       "      <td>-1.971382</td>\n",
       "      <td>0.845947</td>\n",
       "      <td>1.063487</td>\n",
       "      <td>0.964424</td>\n",
       "      <td>-0.276214</td>\n",
       "      <td>-0.052466</td>\n",
       "      <td>0.043716</td>\n",
       "    </tr>\n",
       "    <tr>\n",
       "      <th>4</th>\n",
       "      <td>-190.133451</td>\n",
       "      <td>16.097947</td>\n",
       "      <td>-13.158520</td>\n",
       "      <td>-14.178141</td>\n",
       "      <td>1.761005</td>\n",
       "      <td>-5.760987</td>\n",
       "      <td>-3.059650</td>\n",
       "      <td>1.032843</td>\n",
       "      <td>1.062885</td>\n",
       "      <td>1.123178</td>\n",
       "      <td>-0.538077</td>\n",
       "      <td>-0.055400</td>\n",
       "      <td>0.035538</td>\n",
       "    </tr>\n",
       "  </tbody>\n",
       "</table>\n",
       "</div>"
      ],
      "text/plain": [
       "   component_1  component_2  component_3  component_4  component_5  \\\n",
       "0  -119.818843    -5.560056    -3.172693     5.291593    -1.818728   \n",
       "1  -168.890155    10.116209   -30.781887     1.296776     0.369680   \n",
       "2  -169.311707    14.080532   -16.753628   -10.278399    -0.093409   \n",
       "3  -190.230642    18.302463    -6.534195   -19.644921     1.513442   \n",
       "4  -190.133451    16.097947   -13.158520   -14.178141     1.761005   \n",
       "\n",
       "   component_6  component_7  component_8  component_9  component_10  \\\n",
       "0    -6.312070    -1.032609     5.477971    -1.935498     -0.329154   \n",
       "1    -3.241821    -0.628651     0.915626     0.467686      1.299810   \n",
       "2    -5.910068     1.718753     0.510026     0.414966      0.910646   \n",
       "3    -6.959925    -1.971382     0.845947     1.063487      0.964424   \n",
       "4    -5.760987    -3.059650     1.032843     1.062885      1.123178   \n",
       "\n",
       "   component_11  component_12  component_13  \n",
       "0      0.378374     -0.071311      0.033545  \n",
       "1      0.048674     -0.094734     -0.033150  \n",
       "2     -0.467469     -0.107257     -0.004509  \n",
       "3     -0.276214     -0.052466      0.043716  \n",
       "4     -0.538077     -0.055400      0.035538  "
      ]
     },
     "execution_count": 8,
     "metadata": {},
     "output_type": "execute_result"
    }
   ],
   "source": [
    "pca = PCA()\n",
    "transformed_pca_x = pca.fit_transform(housing_data[housing_features])\n",
    "#create component indices\n",
    "component_names = [\"component_\"+str(comp) for comp in range(1, len(pca.explained_variance_)+1)]\n",
    "\n",
    "#generate new component dataframe\n",
    "transformed_pca_x = pd.DataFrame(transformed_pca_x,columns=component_names)\n",
    "print(housing_data[housing_features].head())\n",
    "transformed_pca_x.head()"
   ]
  },
  {
   "cell_type": "markdown",
   "metadata": {},
   "source": [
    "Once PCA is performed on a given dataset, we get several pieces of information:\n",
    "\n",
    "  * We get a PCA decomposition of the original features into PCA components, into what is called a component matrix. This matrix tells us how to generate the new components (by blending the original features/columns) and is ordered from most-important to least important\n",
    "  * We get what are called the **eigenvectors** of each newly-generated component (column), which tells us how important that column is in terms of the amount of the \"information\" in the original dataset it explains. From the eigenvectors, we can compute the total amount of variance explained per-component as a fraction of the total amount of variance in the original dataset.\n",
    "\n",
    "In general, **PCA is a useful method for reducing your data to a smaller dimensional representation that you can look at, not necessarily that you can then successfully predict from.**\n",
    "\n",
    "Let's take a look at both the component matrix and the importance of each PCA dimension."
   ]
  },
  {
   "cell_type": "code",
   "execution_count": 9,
   "metadata": {},
   "outputs": [
    {
     "data": {
      "text/plain": [
       "<matplotlib.text.Text at 0x1ccd86232b0>"
      ]
     },
     "execution_count": 9,
     "metadata": {},
     "output_type": "execute_result"
    },
    {
     "data": {
      "image/png": "[encoded data removed]",
      "text/plain": [
       "<matplotlib.figure.Figure at 0x1ccd61be860>"
      ]
     },
     "metadata": {},
     "output_type": "display_data"
    }
   ],
   "source": [
    "#generate component loadings on original features\n",
    "component_matrix = pd.DataFrame(pca.components_,index=component_names,columns = housing_features)\n",
    "#add additional columns to describe what\n",
    "component_matrix[\"explained_variance_ratio\"] = pca.explained_variance_ratio_\n",
    "component_matrix[\"eigenvalue\"] = pca.explained_variance_\n",
    "figure = plt.figure(figsize=(18,6))\n",
    "#add 3 subplots one at a time\n",
    "\n",
    "#first the component matrix\n",
    "figure.add_subplot(131)\n",
    "sns.heatmap(component_matrix.iloc[:,:-2])\n",
    "\n",
    "#then the eigenvalues\n",
    "figure.add_subplot(132)\n",
    "plt.plot(range(1,component_matrix.shape[0]+1), component_matrix.eigenvalue)\n",
    "plt.xlabel(\"component number\")\n",
    "plt.ylabel(\"variance explained\")\n",
    "\n",
    "#then the explained variance ratio\n",
    "figure.add_subplot(133)\n",
    "plt.plot(range(1,component_matrix.shape[0]+1), component_matrix.explained_variance_ratio)\n",
    "plt.xlabel(\"component number\")\n",
    "plt.ylabel(\"eigenvalue\")"
   ]
  },
  {
   "cell_type": "markdown",
   "metadata": {},
   "source": [
    "In essence, is fundamentally a linear method for projecting the original data onto a smaller-dimensional space (fewer columns) that keeps as much of the variance (distribution) of the original data as possible. What fraction of the original variance is explained by using just the first two PCA components?"
   ]
  },
  {
   "cell_type": "code",
   "execution_count": 10,
   "metadata": {},
   "outputs": [
    {
     "data": {
      "text/plain": [
       "component_1     0.805823\n",
       "component_2     0.968875\n",
       "component_3     0.990224\n",
       "component_4     0.997181\n",
       "component_5     0.998481\n",
       "component_6     0.999208\n",
       "component_7     0.999627\n",
       "component_8     0.999875\n",
       "component_9     0.999961\n",
       "component_10    0.999992\n",
       "component_11    0.999998\n",
       "component_12    1.000000\n",
       "component_13    1.000000\n",
       "Name: explained_variance_ratio, dtype: float64"
      ]
     },
     "execution_count": 10,
     "metadata": {},
     "output_type": "execute_result"
    }
   ],
   "source": [
    "component_matrix.explained_variance_ratio.cumsum()"
   ]
  },
  {
   "cell_type": "markdown",
   "metadata": {},
   "source": [
    "So it looks like just the first 2 components explain ~97% of the total variance in the dataset. Let's try to use just those 2 components to predict house price and see if it gives us comparable performance:"
   ]
  },
  {
   "cell_type": "code",
   "execution_count": 11,
   "metadata": {},
   "outputs": [
    {
     "name": "stderr",
     "output_type": "stream",
     "text": [
      "C:\\ProgramData\\Anaconda3\\lib\\site-packages\\ipykernel_launcher.py:1: DeprecationWarning: \n",
      ".ix is deprecated. Please use\n",
      ".loc for label based indexing or\n",
      ".iloc for positional indexing\n",
      "\n",
      "See the documentation here:\n",
      "http://pandas.pydata.org/pandas-docs/stable/indexing.html#deprecate_ix\n",
      "  \"\"\"Entry point for launching an IPython kernel.\n"
     ]
    },
    {
     "name": "stdout",
     "output_type": "stream",
     "text": [
      "50-fold mean RMSE:  7.073179867853216\n",
      "50-fold std RMSE:  4.176029028352366\n"
     ]
    }
   ],
   "source": [
    "mean_squared_errors = np.abs(cross_val_score(lr,transformed_pca_x.ix[:,:2],y,cv=50,scoring='neg_mean_squared_error'))\n",
    "#apply square root to each fold\n",
    "root_mean_squared_errors = np.sqrt(mean_squared_errors)\n",
    "print(\"50-fold mean RMSE: \", np.mean(root_mean_squared_errors))\n",
    "print(\"50-fold std RMSE: \", np.std(root_mean_squared_errors))"
   ]
  },
  {
   "cell_type": "markdown",
   "metadata": {},
   "source": [
    "So it looks like this gives us pretty terrible performance.\n",
    "\n",
    "#### Exercise Time\n",
    "\n",
    "* How many components do we need to keep until we achieve very similar performance?"
   ]
  },
  {
   "cell_type": "code",
   "execution_count": null,
   "metadata": {
    "collapsed": true
   },
   "outputs": [],
   "source": [
    "pass"
   ]
  },
  {
   "cell_type": "markdown",
   "metadata": {},
   "source": [
    "Let's visualize all of the components and the binned housing price to see if they help at all in clearing up the relationship between the price and the bulk of the variance (information) in the data:"
   ]
  },
  {
   "cell_type": "code",
   "execution_count": null,
   "metadata": {},
   "outputs": [
    {
     "data": {
      "text/plain": [
       "<seaborn.axisgrid.PairGrid at 0x1ccd61bf4e0>"
      ]
     },
     "execution_count": 13,
     "metadata": {},
     "output_type": "execute_result"
    }
   ],
   "source": [
    "transformed_pca_x[\"housing_price_bin\"] = pd.cut(housing_data[housing_target],5)\n",
    "sns.pairplot(transformed_pca_x,hue=\"housing_price_bin\")"
   ]
  },
  {
   "cell_type": "markdown",
   "metadata": {},
   "source": [
    "So this doesn't look like it helps very well in this case. Nonetheless, PCA is a useful technique in some cases. \n",
    "\n",
    "Specifically, it **can be very very useful when you have hundreds and hundreds of columns and need to drastically reduce the total number of columns you are working with to reduce how long it takes to build your classification model.**\n",
    "\n",
    "### Exercise Time\n",
    "\n",
    "* Perform PCA on the `iris` dataset. Attempt to classify the 3 types of irises from each other using just the first 2 components of a PCA-transformed dataset, and using the full untransformed dataset. What is the classification difference?"
   ]
  },
  {
   "cell_type": "code",
   "execution_count": null,
   "metadata": {},
   "outputs": [],
   "source": [
    "iris_data = pd.read_csv(\"https://archive.ics.uci.edu/ml/machine-learning-databases/iris/bezdekIris.data\",\n",
    "                        names=[\"sepal_length\",\"sepal_width\",\"petal_length\",\"petal_width\",\"iris_type\"])\n",
    "\n",
    "le = LabelEncoder()\n",
    "iris_data.iris_type = le.fit_transform(iris_data.iris_type)\n",
    "iris_data.head()"
   ]
  },
  {
   "cell_type": "markdown",
   "metadata": {},
   "source": [
    "Now, let's try something else with the Boston dataset in order to improve the overall predictive accuracy.\n",
    "\n",
    "Let's generate additional polynomial features up to degree 2 (all pairwise interactions among our original columns), and see if we can't improve the overall RMSE (by adding non-linearities that might be predictive apart from the linear features we've had so far):"
   ]
  },
  {
   "cell_type": "code",
   "execution_count": null,
   "metadata": {},
   "outputs": [],
   "source": [
    "#generate the transformer\n",
    "pf_2 = PolynomialFeatures(degree=2,interaction_only=True)\n",
    "#apply it to the data, but ignore the first constant column\n",
    "pf_2_data = pf_2.fit_transform(housing_data[housing_features])[:,1:]#ignore constant column\n",
    "print(pf_2_data.shape)\n",
    "lr = LinearRegression()\n",
    "#get the mean squared errors per fold, 10 fold cv\n",
    "absolute_errors = np.abs(cross_val_score(lr,pf_2_data,housing_data[housing_target],cv=10))\n",
    "#convert each fold's mean squared errors to rmse\n",
    "rmses = np.sqrt(absolute_errors)\n",
    "print(\"10-fold mean RMSE for degree-2 case: \",np.mean(rmses))"
   ]
  },
  {
   "cell_type": "markdown",
   "metadata": {},
   "source": [
    "So that worked really well, we generated all interaction features, along with our original features, and now we have much lower RMSE! Awesome!\n",
    "\n",
    "What if we extended this to 3-degree polynomials?"
   ]
  },
  {
   "cell_type": "code",
   "execution_count": null,
   "metadata": {},
   "outputs": [],
   "source": [
    "#generate the polynomial transformer\n",
    "pf_3 = PolynomialFeatures(degree=3,interaction_only=True)\n",
    "#apply it to the data, but ignore the first constant column\n",
    "pf_3_data = pf_3.fit_transform(housing_data[housing_features])[:,1:]#ignore constant column\n",
    "print(pf_3_data.shape)\n",
    "lr = LinearRegression()\n",
    "mean_squared_errors_poly3 = np.abs(cross_val_score(lr,pf_3_data,housing_data[housing_target],cv=10))\n",
    "rmses_poly3 = np.sqrt(mean_squared_errors_poly3)\n",
    "print(\"10-fold mean RMSE for degree-3 case: \",np.mean(rmses_poly3))"
   ]
  },
  {
   "cell_type": "markdown",
   "metadata": {},
   "source": [
    "Why did this get so much worse?\n",
    "\n",
    "We have officially horribly overfit our data. Is there anything that can be done in this case?\n",
    "\n",
    "**YES. We can apply what is called REGULARIZATION!**\n",
    "\n",
    "Regularization is a method for penalizing overly complicated models, while minimizing out-of-sample (test-set) error. We will talk about 2 kinds of regularization, which have different names, depending on whether they are being used for regression or classification:\n",
    "\n",
    " * **Lasso/L1 Regularization**\n",
    " * **Ridge/L2 Regularization**\n",
    "\n",
    "In essence, regularization is a method for adding additional constraints or penalties to a model, with the goal of preventing overfitting and improving generalization."
   ]
  },
  {
   "cell_type": "markdown",
   "metadata": {},
   "source": [
    "### Lasso Regression / L1 Regularization for Logistic Regression\n",
    "\n",
    "In traditional regression/classification, we try to minimize some kind of loss function (we try to make the loss be as close to 0 as possible). In regression, this is usually the **mean squared error** (or root mean squared error). However, with regularization, instead of just minimizing the loss based on the error of the model, we can also add a term that effectively \"punishes\" more complicated models.\n",
    "\n",
    "What this means is that as you add more terms (features/columns) to your model, you suffer more added \"loss due to complexity\" in addition to \"loss due to model performance.\" \n",
    "\n",
    "So, how can regularization be used in linear regression to effectively make models simpler?\n",
    "\n",
    "**You reduce the coefficients for specific columns in your model until they go to zero (or very close to zero) for your model, which has the net effect of not using those features (or using them very sparingly)**\n",
    "\n",
    "More mathematically, Lasso/L1 regularization adds an absolute-value penalty to the loss function:\n",
    "\n",
    "$$loss_{lasso} = |Xw-Y|^2 + \\lambda|w|$$\n",
    "\n",
    "Whereas the non-regularized version is simply:\n",
    "\n",
    "$$loss = |Xw-Y|^2$$\n",
    "\n",
    "So, L1 regularization adds a penalty (based on $\\lambda$) to the regular loss function. Since each non-zero coefficient adds to the penalty, it forces weak features to have zero as coefficients. Thus L1 regularization produces sparse solutions, inherently performing feature selection.\n",
    "\n",
    "However, because this is an absolute value-based regularization (and absolute values are no-fun when it comes to taking derivatives), L1/Lasso regularization can lead to non-unique solutions (especially when you have highly correlated features...why?).\n",
    "\n",
    "For regression, Scikit-learn offers the `Lasso` and `LassoCV` functions, and for Logistic regression it offers the `l1` penalty parameter for classification. Let's use the `Lasso` with full regularization (when $\\lambda=0$) on the degree-3 case:"
   ]
  },
  {
   "cell_type": "code",
   "execution_count": null,
   "metadata": {},
   "outputs": [],
   "source": [
    "lasso = Lasso(max_iter=2000)#increase the number of iterations for lasso to prevent lack of convergence\n",
    "mean_squared_errors_poly3_lasso = np.abs(cross_val_score(lasso,pf_3_data,housing_data[housing_target],cv=10))\n",
    "rmses_lasso_poly3 = np.sqrt(mean_squared_errors_poly3_lasso)\n",
    "print(\"10-fold mean RMSE for degree-3 case, strongest lasso regularization: \",np.mean(rmses_lasso_poly3))"
   ]
  },
  {
   "cell_type": "markdown",
   "metadata": {},
   "source": [
    "Wow! That worked very well! We now have a much better model! Let's examine how many of the coefficients are non-zero when we fit on the full dataset:"
   ]
  },
  {
   "cell_type": "code",
   "execution_count": null,
   "metadata": {},
   "outputs": [],
   "source": [
    "lasso_all = Lasso().fit(pf_3_data,housing_data[housing_target])\n",
    "print(\"Number of features in the model: \",len(lasso_all.coef_))\n",
    "non_zero_features_mask = np.abs(lasso_all.coef_)>0.0001\n",
    "print(non_zero_features_mask)\n",
    "print(\"Number of non-zero features in the model: \",np.sum(non_zero_features_mask.astype(int)))\n",
    "print(\"Fraction of total features used: \",float(np.sum(non_zero_features_mask.astype(int)))/len(lasso_all.coef_))"
   ]
  },
  {
   "cell_type": "markdown",
   "metadata": {},
   "source": [
    "So, with full lasso regularization, we get a model that uses less than 40% of the original columns, and performs better than the model that only uses the original features or the combination of the original features and the pairwise interactions!"
   ]
  },
  {
   "cell_type": "markdown",
   "metadata": {},
   "source": [
    "#### Exercise Time!\n",
    "\n",
    " * Try the lasso method but generating the 4th order polynomial features (use `PolynomialFeatures(degree=4,interactions_only=True)` and the same `Lasso()` and `cross_val_score` functions). Does our RMSE improve yet again?\n",
    " * Try the lasso method for the poly3 case, but change the $\\lambda$ (called $\\alpha$ in sklearn) parameter to `0.2`; What happens to the RMSE? What happens to the fraction of non-zero features in the model trained on all the data?"
   ]
  },
  {
   "cell_type": "code",
   "execution_count": null,
   "metadata": {
    "collapsed": true
   },
   "outputs": [],
   "source": [
    "pass"
   ]
  },
  {
   "cell_type": "markdown",
   "metadata": {},
   "source": [
    "### Ridge Regression / L2 Regularization for Logistic Regression\n",
    "\n",
    "So, Lasso looks really excellent to use a regularization method. However, as I'd mentioned before, it is difficult to use across the board for all regression/classification problems, because it can create non-unique solutions, or solutions don't always converge (because of the problem with taking derivatives of a function that is not differentiable everywhere).\n",
    "\n",
    "So, what can be done? We can create a penalty term that is smooth and therefore differentiable everywhere. Specifically, we can use what is called **Ridge/L2 regularization.** Here, the loss is slightly different:\n",
    "\n",
    "$$loss_{ridge} = |Xw-Y|^2 + \\lambda|w|^2$$\n",
    "\n",
    "The act of squaring the weight features makes the penalty differentiable (because the values now smoothly transition to 0). So, squaring the L1 penalty turns it into an L2 penalty Square the Lasso and get a Ridge (or something).\n",
    "\n",
    "Since the coefficients are squared in the penalty expression, it has a different effect from L1-norm, namely it forces the coefficient values to be spread out more equally. For correlated features, it means that they tend to get similar coefficients (whereas in L1 regularization, one of the terms will be forced to 0).\n",
    "\n",
    "**The effect of this is that models are much more stable (coefficients do not fluctuate on small data changes as is the case with unregularized or L1 models). So while Ridge/L2 regularization does not perform feature selection the same way as L1 does, it is much more useful for feature *interpretation*; a predictive feature will get a non-zero coefficient, which is often not the case with L1.**\n",
    "\n",
    "Let's use the full-penalty Ridge regression and see what happens:"
   ]
  },
  {
   "cell_type": "code",
   "execution_count": null,
   "metadata": {},
   "outputs": [],
   "source": [
    "ridge = Ridge()\n",
    "ridge_cv_squared_errors = np.abs(cross_val_score(ridge,pf_3_data,housing_data[housing_target],cv=10))\n",
    "rmse_ridge_cv = np.sqrt(ridge_cv_squared_errors)\n",
    "print(\"10-fold mean RMSE for degree-3 case, strongest lasso regularization: \", np.mean(rmse_ridge_cv))"
   ]
  },
  {
   "cell_type": "code",
   "execution_count": null,
   "metadata": {},
   "outputs": [],
   "source": [
    "print(ridge_cv_squared_errors)"
   ]
  },
  {
   "cell_type": "markdown",
   "metadata": {},
   "source": [
    "#### Exercise Time\n",
    "\n",
    "* Try to use both lasso and ridge on the degree-2 polynomial version of the data, do either of them reduce the RMSE? What does our result tell us about the full degree-2 model?"
   ]
  },
  {
   "cell_type": "markdown",
   "metadata": {},
   "source": [
    "### Lasso vs. Ridge\n",
    "\n",
    "#### Lasso:\n",
    "* produces sparse models \n",
    "* is useful for strong feature selection in order to improve model performance, or to minimize the number of explanatory variables.\n",
    "* can produce non-unique solutions (when some features are very strongly correlated)\n",
    "* can produce very different solutions depending on slight changes in features (because of non-uniqueness)\n",
    "\n",
    "#### Ridge:\n",
    "* produces stable models with smooth non-zero coefficients across features. \n",
    "* is useful for data interpretation, understanding what features, even when correlated, may be used in combination to predict the response.\n",
    "* may tell you something about how the data itself was generated.\n",
    "\n",
    "You can combine both Lasso and Ridge models into a single penalized model (that uses a weighted combination of Lasso and Ridge regression). This is called the `ElasticNet`."
   ]
  },
  {
   "cell_type": "markdown",
   "metadata": {
    "collapsed": true
   },
   "source": [
    "### General Strategy and Takeaways\n",
    "\n",
    "* PCA is more useful for explanation/data exploration than it is for classification/regression when you have few (< 100) features.\n",
    "* When generating polynomial features, generate the lowest-order polynomial interactions first, drop the constant term (the first column in the matrix), and try to use the full model for regression/classification.\n",
    "* If you are trying for data explanation, use Ridge/L2 regularization\n",
    "* If you are going for sparse models, use Lasso/L1, but realize that the solution may be non-unique. In general, Lasso doesn't always perform better than Ridge.\n",
    "* `ElasticNet` requires significantly more tuning than either method, but can lead to the highest performing \"linear\" models. **As always, with great power comes great responsibility, so use all of these methods wisely.**"
   ]
  }
 ],
 "metadata": {
  "kernelspec": {
   "display_name": "Python 3",
   "language": "python",
   "name": "python3"
  },
  "language_info": {
   "codemirror_mode": {
    "name": "ipython",
    "version": 3
   },
   "file_extension": ".py",
   "mimetype": "text/x-python",
   "name": "python",
   "nbconvert_exporter": "python",
   "pygments_lexer": "ipython3",
   "version": "3.6.1"
  }
 },
 "nbformat": 4,
 "nbformat_minor": 1
}
